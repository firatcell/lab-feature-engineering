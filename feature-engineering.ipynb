{
 "cells": [
  {
   "cell_type": "code",
   "execution_count": 254,
   "id": "c0bcacae",
   "metadata": {},
   "outputs": [],
   "source": [
    "import pandas as pd\n",
    "import numpy as np\n",
    "import matplotlib.pyplot as plt\n",
    "import seaborn as sns \n",
    "pd.set_option('display.max_columns', None)"
   ]
  },
  {
   "cell_type": "code",
   "execution_count": 255,
   "id": "090397b8",
   "metadata": {},
   "outputs": [
    {
     "name": "stderr",
     "output_type": "stream",
     "text": [
      "C:\\Users\\Playtime\\AppData\\Local\\Temp\\ipykernel_22772\\3673836359.py:1: DtypeWarning: Columns (8) have mixed types. Specify dtype option on import or set low_memory=False.\n",
      "  data = pd.read_csv('learningSet.csv')\n"
     ]
    }
   ],
   "source": [
    "data = pd.read_csv('learningSet.csv')"
   ]
  },
  {
   "cell_type": "code",
   "execution_count": 256,
   "id": "86b7bb9a",
   "metadata": {},
   "outputs": [],
   "source": [
    "def num_cat_split(df):\n",
    "    num_df = pd.DataFrame(df.select_dtypes(include='number'))\n",
    "    cat_df = pd.DataFrame(df.select_dtypes(include='object'))\n",
    "    return num_df, cat_df\n",
    "\n",
    "num_df, cat_df = num_cat_split(data)"
   ]
  },
  {
   "cell_type": "code",
   "execution_count": 257,
   "id": "f16c06bc",
   "metadata": {},
   "outputs": [
    {
     "data": {
      "text/html": [
       "<div>\n",
       "<style scoped>\n",
       "    .dataframe tbody tr th:only-of-type {\n",
       "        vertical-align: middle;\n",
       "    }\n",
       "\n",
       "    .dataframe tbody tr th {\n",
       "        vertical-align: top;\n",
       "    }\n",
       "\n",
       "    .dataframe thead th {\n",
       "        text-align: right;\n",
       "    }\n",
       "</style>\n",
       "<table border=\"1\" class=\"dataframe\">\n",
       "  <thead>\n",
       "    <tr style=\"text-align: right;\">\n",
       "      <th></th>\n",
       "      <th>OSOURCE</th>\n",
       "      <th>STATE</th>\n",
       "      <th>ZIP</th>\n",
       "      <th>MAILCODE</th>\n",
       "      <th>PVASTATE</th>\n",
       "      <th>NOEXCH</th>\n",
       "      <th>RECINHSE</th>\n",
       "      <th>RECP3</th>\n",
       "      <th>RECPGVG</th>\n",
       "      <th>RECSWEEP</th>\n",
       "      <th>MDMAUD</th>\n",
       "      <th>DOMAIN</th>\n",
       "      <th>CLUSTER</th>\n",
       "      <th>AGEFLAG</th>\n",
       "      <th>HOMEOWNR</th>\n",
       "      <th>CHILD03</th>\n",
       "      <th>CHILD07</th>\n",
       "      <th>CHILD12</th>\n",
       "      <th>CHILD18</th>\n",
       "      <th>GENDER</th>\n",
       "      <th>DATASRCE</th>\n",
       "      <th>SOLP3</th>\n",
       "      <th>SOLIH</th>\n",
       "      <th>MAJOR</th>\n",
       "      <th>GEOCODE</th>\n",
       "      <th>COLLECT1</th>\n",
       "      <th>VETERANS</th>\n",
       "      <th>BIBLE</th>\n",
       "      <th>CATLG</th>\n",
       "      <th>HOMEE</th>\n",
       "      <th>PETS</th>\n",
       "      <th>CDPLAY</th>\n",
       "      <th>STEREO</th>\n",
       "      <th>PCOWNERS</th>\n",
       "      <th>PHOTO</th>\n",
       "      <th>CRAFTS</th>\n",
       "      <th>FISHER</th>\n",
       "      <th>GARDENIN</th>\n",
       "      <th>BOATS</th>\n",
       "      <th>WALKER</th>\n",
       "      <th>KIDSTUFF</th>\n",
       "      <th>CARDS</th>\n",
       "      <th>PLATES</th>\n",
       "      <th>LIFESRC</th>\n",
       "      <th>PEPSTRFL</th>\n",
       "      <th>RFA_2</th>\n",
       "      <th>RFA_3</th>\n",
       "      <th>RFA_4</th>\n",
       "      <th>RFA_5</th>\n",
       "      <th>RFA_6</th>\n",
       "      <th>RFA_7</th>\n",
       "      <th>RFA_8</th>\n",
       "      <th>RFA_9</th>\n",
       "      <th>RFA_10</th>\n",
       "      <th>RFA_11</th>\n",
       "      <th>RFA_12</th>\n",
       "      <th>RFA_13</th>\n",
       "      <th>RFA_14</th>\n",
       "      <th>RFA_15</th>\n",
       "      <th>RFA_16</th>\n",
       "      <th>RFA_17</th>\n",
       "      <th>RFA_18</th>\n",
       "      <th>RFA_19</th>\n",
       "      <th>RFA_20</th>\n",
       "      <th>RFA_21</th>\n",
       "      <th>RFA_22</th>\n",
       "      <th>RFA_23</th>\n",
       "      <th>RFA_24</th>\n",
       "      <th>RFA_2R</th>\n",
       "      <th>RFA_2A</th>\n",
       "      <th>MDMAUD_R</th>\n",
       "      <th>MDMAUD_F</th>\n",
       "      <th>MDMAUD_A</th>\n",
       "      <th>GEOCODE2</th>\n",
       "    </tr>\n",
       "  </thead>\n",
       "  <tbody>\n",
       "    <tr>\n",
       "      <th>0</th>\n",
       "      <td>GRI</td>\n",
       "      <td>IL</td>\n",
       "      <td>61081</td>\n",
       "      <td></td>\n",
       "      <td></td>\n",
       "      <td>0</td>\n",
       "      <td></td>\n",
       "      <td></td>\n",
       "      <td></td>\n",
       "      <td></td>\n",
       "      <td>XXXX</td>\n",
       "      <td>T2</td>\n",
       "      <td>36</td>\n",
       "      <td></td>\n",
       "      <td></td>\n",
       "      <td></td>\n",
       "      <td></td>\n",
       "      <td></td>\n",
       "      <td></td>\n",
       "      <td>F</td>\n",
       "      <td></td>\n",
       "      <td></td>\n",
       "      <td></td>\n",
       "      <td></td>\n",
       "      <td></td>\n",
       "      <td></td>\n",
       "      <td></td>\n",
       "      <td></td>\n",
       "      <td></td>\n",
       "      <td></td>\n",
       "      <td></td>\n",
       "      <td></td>\n",
       "      <td></td>\n",
       "      <td></td>\n",
       "      <td></td>\n",
       "      <td></td>\n",
       "      <td></td>\n",
       "      <td></td>\n",
       "      <td></td>\n",
       "      <td></td>\n",
       "      <td></td>\n",
       "      <td></td>\n",
       "      <td></td>\n",
       "      <td></td>\n",
       "      <td>X</td>\n",
       "      <td>L4E</td>\n",
       "      <td>S4E</td>\n",
       "      <td>S4E</td>\n",
       "      <td>S4E</td>\n",
       "      <td>S4E</td>\n",
       "      <td>S4E</td>\n",
       "      <td>S4E</td>\n",
       "      <td>S4E</td>\n",
       "      <td>S4E</td>\n",
       "      <td>S4E</td>\n",
       "      <td>S4E</td>\n",
       "      <td>S4E</td>\n",
       "      <td>S4E</td>\n",
       "      <td>S4E</td>\n",
       "      <td>S4E</td>\n",
       "      <td>S4E</td>\n",
       "      <td>S4E</td>\n",
       "      <td>S4E</td>\n",
       "      <td>S4E</td>\n",
       "      <td>S4E</td>\n",
       "      <td>S4E</td>\n",
       "      <td>S4E</td>\n",
       "      <td>S4E</td>\n",
       "      <td>L</td>\n",
       "      <td>E</td>\n",
       "      <td>X</td>\n",
       "      <td>X</td>\n",
       "      <td>X</td>\n",
       "      <td>C</td>\n",
       "    </tr>\n",
       "    <tr>\n",
       "      <th>1</th>\n",
       "      <td>BOA</td>\n",
       "      <td>CA</td>\n",
       "      <td>91326</td>\n",
       "      <td></td>\n",
       "      <td></td>\n",
       "      <td>0</td>\n",
       "      <td></td>\n",
       "      <td></td>\n",
       "      <td></td>\n",
       "      <td></td>\n",
       "      <td>XXXX</td>\n",
       "      <td>S1</td>\n",
       "      <td>14</td>\n",
       "      <td>E</td>\n",
       "      <td>H</td>\n",
       "      <td></td>\n",
       "      <td></td>\n",
       "      <td></td>\n",
       "      <td>M</td>\n",
       "      <td>M</td>\n",
       "      <td>3</td>\n",
       "      <td></td>\n",
       "      <td></td>\n",
       "      <td></td>\n",
       "      <td>2</td>\n",
       "      <td></td>\n",
       "      <td></td>\n",
       "      <td></td>\n",
       "      <td></td>\n",
       "      <td></td>\n",
       "      <td></td>\n",
       "      <td></td>\n",
       "      <td></td>\n",
       "      <td></td>\n",
       "      <td></td>\n",
       "      <td></td>\n",
       "      <td></td>\n",
       "      <td></td>\n",
       "      <td></td>\n",
       "      <td></td>\n",
       "      <td></td>\n",
       "      <td></td>\n",
       "      <td></td>\n",
       "      <td></td>\n",
       "      <td></td>\n",
       "      <td>L2G</td>\n",
       "      <td>A2G</td>\n",
       "      <td>A2G</td>\n",
       "      <td>A2G</td>\n",
       "      <td>A2G</td>\n",
       "      <td>A1E</td>\n",
       "      <td>A1E</td>\n",
       "      <td>A1E</td>\n",
       "      <td>A1E</td>\n",
       "      <td>A1E</td>\n",
       "      <td>A1E</td>\n",
       "      <td></td>\n",
       "      <td></td>\n",
       "      <td></td>\n",
       "      <td>L1E</td>\n",
       "      <td></td>\n",
       "      <td></td>\n",
       "      <td>N1E</td>\n",
       "      <td>N1E</td>\n",
       "      <td>N1E</td>\n",
       "      <td>N1E</td>\n",
       "      <td></td>\n",
       "      <td>F1E</td>\n",
       "      <td>L</td>\n",
       "      <td>G</td>\n",
       "      <td>X</td>\n",
       "      <td>X</td>\n",
       "      <td>X</td>\n",
       "      <td>A</td>\n",
       "    </tr>\n",
       "    <tr>\n",
       "      <th>2</th>\n",
       "      <td>AMH</td>\n",
       "      <td>NC</td>\n",
       "      <td>27017</td>\n",
       "      <td></td>\n",
       "      <td></td>\n",
       "      <td>0</td>\n",
       "      <td></td>\n",
       "      <td></td>\n",
       "      <td></td>\n",
       "      <td></td>\n",
       "      <td>XXXX</td>\n",
       "      <td>R2</td>\n",
       "      <td>43</td>\n",
       "      <td></td>\n",
       "      <td>U</td>\n",
       "      <td></td>\n",
       "      <td></td>\n",
       "      <td></td>\n",
       "      <td></td>\n",
       "      <td>M</td>\n",
       "      <td>3</td>\n",
       "      <td></td>\n",
       "      <td></td>\n",
       "      <td></td>\n",
       "      <td></td>\n",
       "      <td></td>\n",
       "      <td></td>\n",
       "      <td></td>\n",
       "      <td></td>\n",
       "      <td></td>\n",
       "      <td></td>\n",
       "      <td></td>\n",
       "      <td></td>\n",
       "      <td></td>\n",
       "      <td></td>\n",
       "      <td></td>\n",
       "      <td></td>\n",
       "      <td></td>\n",
       "      <td></td>\n",
       "      <td></td>\n",
       "      <td></td>\n",
       "      <td></td>\n",
       "      <td></td>\n",
       "      <td></td>\n",
       "      <td>X</td>\n",
       "      <td>L4E</td>\n",
       "      <td>S4E</td>\n",
       "      <td>S4E</td>\n",
       "      <td>S4E</td>\n",
       "      <td>S4E</td>\n",
       "      <td>S4F</td>\n",
       "      <td>S4F</td>\n",
       "      <td>S4F</td>\n",
       "      <td></td>\n",
       "      <td>S4F</td>\n",
       "      <td>S4F</td>\n",
       "      <td>S4F</td>\n",
       "      <td>S4F</td>\n",
       "      <td>S4F</td>\n",
       "      <td>S4F</td>\n",
       "      <td></td>\n",
       "      <td>S4D</td>\n",
       "      <td>S4D</td>\n",
       "      <td></td>\n",
       "      <td></td>\n",
       "      <td>S4D</td>\n",
       "      <td>S4D</td>\n",
       "      <td>S3D</td>\n",
       "      <td>L</td>\n",
       "      <td>E</td>\n",
       "      <td>X</td>\n",
       "      <td>X</td>\n",
       "      <td>X</td>\n",
       "      <td>C</td>\n",
       "    </tr>\n",
       "    <tr>\n",
       "      <th>3</th>\n",
       "      <td>BRY</td>\n",
       "      <td>CA</td>\n",
       "      <td>95953</td>\n",
       "      <td></td>\n",
       "      <td></td>\n",
       "      <td>0</td>\n",
       "      <td></td>\n",
       "      <td></td>\n",
       "      <td></td>\n",
       "      <td></td>\n",
       "      <td>XXXX</td>\n",
       "      <td>R2</td>\n",
       "      <td>44</td>\n",
       "      <td>E</td>\n",
       "      <td>U</td>\n",
       "      <td></td>\n",
       "      <td></td>\n",
       "      <td></td>\n",
       "      <td></td>\n",
       "      <td>F</td>\n",
       "      <td>3</td>\n",
       "      <td></td>\n",
       "      <td></td>\n",
       "      <td></td>\n",
       "      <td></td>\n",
       "      <td></td>\n",
       "      <td></td>\n",
       "      <td></td>\n",
       "      <td></td>\n",
       "      <td></td>\n",
       "      <td></td>\n",
       "      <td></td>\n",
       "      <td></td>\n",
       "      <td></td>\n",
       "      <td></td>\n",
       "      <td></td>\n",
       "      <td></td>\n",
       "      <td></td>\n",
       "      <td></td>\n",
       "      <td></td>\n",
       "      <td></td>\n",
       "      <td></td>\n",
       "      <td></td>\n",
       "      <td></td>\n",
       "      <td>X</td>\n",
       "      <td>L4E</td>\n",
       "      <td>S4E</td>\n",
       "      <td>S4E</td>\n",
       "      <td>S4E</td>\n",
       "      <td>S4E</td>\n",
       "      <td>S4E</td>\n",
       "      <td>S4E</td>\n",
       "      <td>S4E</td>\n",
       "      <td></td>\n",
       "      <td>S4E</td>\n",
       "      <td>S4E</td>\n",
       "      <td>S4E</td>\n",
       "      <td>S4E</td>\n",
       "      <td>S4E</td>\n",
       "      <td>S4E</td>\n",
       "      <td>S2D</td>\n",
       "      <td>S2D</td>\n",
       "      <td>A1D</td>\n",
       "      <td>A1D</td>\n",
       "      <td>A1D</td>\n",
       "      <td>A1D</td>\n",
       "      <td></td>\n",
       "      <td></td>\n",
       "      <td>L</td>\n",
       "      <td>E</td>\n",
       "      <td>X</td>\n",
       "      <td>X</td>\n",
       "      <td>X</td>\n",
       "      <td>C</td>\n",
       "    </tr>\n",
       "    <tr>\n",
       "      <th>4</th>\n",
       "      <td></td>\n",
       "      <td>FL</td>\n",
       "      <td>33176</td>\n",
       "      <td></td>\n",
       "      <td></td>\n",
       "      <td>0</td>\n",
       "      <td>X</td>\n",
       "      <td>X</td>\n",
       "      <td></td>\n",
       "      <td></td>\n",
       "      <td>XXXX</td>\n",
       "      <td>S2</td>\n",
       "      <td>16</td>\n",
       "      <td>E</td>\n",
       "      <td>H</td>\n",
       "      <td></td>\n",
       "      <td></td>\n",
       "      <td></td>\n",
       "      <td></td>\n",
       "      <td>F</td>\n",
       "      <td>3</td>\n",
       "      <td></td>\n",
       "      <td>12</td>\n",
       "      <td></td>\n",
       "      <td></td>\n",
       "      <td></td>\n",
       "      <td></td>\n",
       "      <td>Y</td>\n",
       "      <td>Y</td>\n",
       "      <td></td>\n",
       "      <td></td>\n",
       "      <td></td>\n",
       "      <td>Y</td>\n",
       "      <td></td>\n",
       "      <td></td>\n",
       "      <td>Y</td>\n",
       "      <td></td>\n",
       "      <td>Y</td>\n",
       "      <td></td>\n",
       "      <td>Y</td>\n",
       "      <td></td>\n",
       "      <td>Y</td>\n",
       "      <td></td>\n",
       "      <td>3</td>\n",
       "      <td></td>\n",
       "      <td>L2F</td>\n",
       "      <td>A2F</td>\n",
       "      <td>A2F</td>\n",
       "      <td>A2F</td>\n",
       "      <td>A1D</td>\n",
       "      <td>I2D</td>\n",
       "      <td>A1E</td>\n",
       "      <td>A1E</td>\n",
       "      <td>L1D</td>\n",
       "      <td>A1E</td>\n",
       "      <td>A1E</td>\n",
       "      <td>L1D</td>\n",
       "      <td>L3D</td>\n",
       "      <td></td>\n",
       "      <td>L3D</td>\n",
       "      <td>A2D</td>\n",
       "      <td>A2D</td>\n",
       "      <td>A3D</td>\n",
       "      <td>A3D</td>\n",
       "      <td>A3D</td>\n",
       "      <td>I4E</td>\n",
       "      <td>A3D</td>\n",
       "      <td>A3D</td>\n",
       "      <td>L</td>\n",
       "      <td>F</td>\n",
       "      <td>X</td>\n",
       "      <td>X</td>\n",
       "      <td>X</td>\n",
       "      <td>A</td>\n",
       "    </tr>\n",
       "    <tr>\n",
       "      <th>...</th>\n",
       "      <td>...</td>\n",
       "      <td>...</td>\n",
       "      <td>...</td>\n",
       "      <td>...</td>\n",
       "      <td>...</td>\n",
       "      <td>...</td>\n",
       "      <td>...</td>\n",
       "      <td>...</td>\n",
       "      <td>...</td>\n",
       "      <td>...</td>\n",
       "      <td>...</td>\n",
       "      <td>...</td>\n",
       "      <td>...</td>\n",
       "      <td>...</td>\n",
       "      <td>...</td>\n",
       "      <td>...</td>\n",
       "      <td>...</td>\n",
       "      <td>...</td>\n",
       "      <td>...</td>\n",
       "      <td>...</td>\n",
       "      <td>...</td>\n",
       "      <td>...</td>\n",
       "      <td>...</td>\n",
       "      <td>...</td>\n",
       "      <td>...</td>\n",
       "      <td>...</td>\n",
       "      <td>...</td>\n",
       "      <td>...</td>\n",
       "      <td>...</td>\n",
       "      <td>...</td>\n",
       "      <td>...</td>\n",
       "      <td>...</td>\n",
       "      <td>...</td>\n",
       "      <td>...</td>\n",
       "      <td>...</td>\n",
       "      <td>...</td>\n",
       "      <td>...</td>\n",
       "      <td>...</td>\n",
       "      <td>...</td>\n",
       "      <td>...</td>\n",
       "      <td>...</td>\n",
       "      <td>...</td>\n",
       "      <td>...</td>\n",
       "      <td>...</td>\n",
       "      <td>...</td>\n",
       "      <td>...</td>\n",
       "      <td>...</td>\n",
       "      <td>...</td>\n",
       "      <td>...</td>\n",
       "      <td>...</td>\n",
       "      <td>...</td>\n",
       "      <td>...</td>\n",
       "      <td>...</td>\n",
       "      <td>...</td>\n",
       "      <td>...</td>\n",
       "      <td>...</td>\n",
       "      <td>...</td>\n",
       "      <td>...</td>\n",
       "      <td>...</td>\n",
       "      <td>...</td>\n",
       "      <td>...</td>\n",
       "      <td>...</td>\n",
       "      <td>...</td>\n",
       "      <td>...</td>\n",
       "      <td>...</td>\n",
       "      <td>...</td>\n",
       "      <td>...</td>\n",
       "      <td>...</td>\n",
       "      <td>...</td>\n",
       "      <td>...</td>\n",
       "      <td>...</td>\n",
       "      <td>...</td>\n",
       "      <td>...</td>\n",
       "      <td>...</td>\n",
       "    </tr>\n",
       "    <tr>\n",
       "      <th>95407</th>\n",
       "      <td>ASE</td>\n",
       "      <td>AK</td>\n",
       "      <td>99504</td>\n",
       "      <td></td>\n",
       "      <td></td>\n",
       "      <td>0</td>\n",
       "      <td></td>\n",
       "      <td></td>\n",
       "      <td></td>\n",
       "      <td></td>\n",
       "      <td>XXXX</td>\n",
       "      <td>C2</td>\n",
       "      <td>27</td>\n",
       "      <td></td>\n",
       "      <td></td>\n",
       "      <td></td>\n",
       "      <td></td>\n",
       "      <td></td>\n",
       "      <td></td>\n",
       "      <td>M</td>\n",
       "      <td></td>\n",
       "      <td></td>\n",
       "      <td></td>\n",
       "      <td></td>\n",
       "      <td></td>\n",
       "      <td></td>\n",
       "      <td></td>\n",
       "      <td></td>\n",
       "      <td></td>\n",
       "      <td></td>\n",
       "      <td></td>\n",
       "      <td></td>\n",
       "      <td></td>\n",
       "      <td></td>\n",
       "      <td></td>\n",
       "      <td></td>\n",
       "      <td></td>\n",
       "      <td></td>\n",
       "      <td></td>\n",
       "      <td></td>\n",
       "      <td></td>\n",
       "      <td></td>\n",
       "      <td></td>\n",
       "      <td></td>\n",
       "      <td></td>\n",
       "      <td>L1G</td>\n",
       "      <td>F1G</td>\n",
       "      <td>F1G</td>\n",
       "      <td></td>\n",
       "      <td>F1G</td>\n",
       "      <td>P1G</td>\n",
       "      <td>P1G</td>\n",
       "      <td></td>\n",
       "      <td></td>\n",
       "      <td></td>\n",
       "      <td></td>\n",
       "      <td></td>\n",
       "      <td></td>\n",
       "      <td></td>\n",
       "      <td></td>\n",
       "      <td></td>\n",
       "      <td></td>\n",
       "      <td></td>\n",
       "      <td></td>\n",
       "      <td></td>\n",
       "      <td></td>\n",
       "      <td></td>\n",
       "      <td></td>\n",
       "      <td>L</td>\n",
       "      <td>G</td>\n",
       "      <td>X</td>\n",
       "      <td>X</td>\n",
       "      <td>X</td>\n",
       "      <td>C</td>\n",
       "    </tr>\n",
       "    <tr>\n",
       "      <th>95408</th>\n",
       "      <td>DCD</td>\n",
       "      <td>TX</td>\n",
       "      <td>77379</td>\n",
       "      <td></td>\n",
       "      <td></td>\n",
       "      <td>0</td>\n",
       "      <td></td>\n",
       "      <td></td>\n",
       "      <td></td>\n",
       "      <td></td>\n",
       "      <td>XXXX</td>\n",
       "      <td>C1</td>\n",
       "      <td>24</td>\n",
       "      <td>E</td>\n",
       "      <td>H</td>\n",
       "      <td></td>\n",
       "      <td></td>\n",
       "      <td></td>\n",
       "      <td>M</td>\n",
       "      <td>M</td>\n",
       "      <td>3</td>\n",
       "      <td></td>\n",
       "      <td></td>\n",
       "      <td></td>\n",
       "      <td></td>\n",
       "      <td></td>\n",
       "      <td></td>\n",
       "      <td></td>\n",
       "      <td></td>\n",
       "      <td></td>\n",
       "      <td></td>\n",
       "      <td></td>\n",
       "      <td></td>\n",
       "      <td></td>\n",
       "      <td></td>\n",
       "      <td></td>\n",
       "      <td></td>\n",
       "      <td></td>\n",
       "      <td></td>\n",
       "      <td></td>\n",
       "      <td></td>\n",
       "      <td></td>\n",
       "      <td></td>\n",
       "      <td></td>\n",
       "      <td></td>\n",
       "      <td>L1F</td>\n",
       "      <td></td>\n",
       "      <td></td>\n",
       "      <td></td>\n",
       "      <td></td>\n",
       "      <td>P1F</td>\n",
       "      <td>P1F</td>\n",
       "      <td></td>\n",
       "      <td></td>\n",
       "      <td></td>\n",
       "      <td></td>\n",
       "      <td></td>\n",
       "      <td></td>\n",
       "      <td></td>\n",
       "      <td></td>\n",
       "      <td></td>\n",
       "      <td></td>\n",
       "      <td></td>\n",
       "      <td></td>\n",
       "      <td></td>\n",
       "      <td></td>\n",
       "      <td></td>\n",
       "      <td></td>\n",
       "      <td>L</td>\n",
       "      <td>F</td>\n",
       "      <td>X</td>\n",
       "      <td>X</td>\n",
       "      <td>X</td>\n",
       "      <td>A</td>\n",
       "    </tr>\n",
       "    <tr>\n",
       "      <th>95409</th>\n",
       "      <td>MBC</td>\n",
       "      <td>MI</td>\n",
       "      <td>48910</td>\n",
       "      <td></td>\n",
       "      <td></td>\n",
       "      <td>0</td>\n",
       "      <td></td>\n",
       "      <td>X</td>\n",
       "      <td></td>\n",
       "      <td></td>\n",
       "      <td>XXXX</td>\n",
       "      <td>C3</td>\n",
       "      <td>30</td>\n",
       "      <td></td>\n",
       "      <td></td>\n",
       "      <td></td>\n",
       "      <td></td>\n",
       "      <td></td>\n",
       "      <td></td>\n",
       "      <td>M</td>\n",
       "      <td></td>\n",
       "      <td></td>\n",
       "      <td></td>\n",
       "      <td></td>\n",
       "      <td></td>\n",
       "      <td></td>\n",
       "      <td></td>\n",
       "      <td></td>\n",
       "      <td></td>\n",
       "      <td></td>\n",
       "      <td></td>\n",
       "      <td></td>\n",
       "      <td></td>\n",
       "      <td></td>\n",
       "      <td></td>\n",
       "      <td></td>\n",
       "      <td></td>\n",
       "      <td></td>\n",
       "      <td></td>\n",
       "      <td></td>\n",
       "      <td></td>\n",
       "      <td></td>\n",
       "      <td></td>\n",
       "      <td></td>\n",
       "      <td>X</td>\n",
       "      <td>L3E</td>\n",
       "      <td>S4E</td>\n",
       "      <td>S4E</td>\n",
       "      <td>S3E</td>\n",
       "      <td>S3E</td>\n",
       "      <td></td>\n",
       "      <td>A2E</td>\n",
       "      <td>N3E</td>\n",
       "      <td>N3E</td>\n",
       "      <td>N3E</td>\n",
       "      <td>N3E</td>\n",
       "      <td>N3E</td>\n",
       "      <td>N3E</td>\n",
       "      <td>N2E</td>\n",
       "      <td>F1D</td>\n",
       "      <td></td>\n",
       "      <td>F1D</td>\n",
       "      <td></td>\n",
       "      <td></td>\n",
       "      <td>P1D</td>\n",
       "      <td>P1D</td>\n",
       "      <td></td>\n",
       "      <td></td>\n",
       "      <td>L</td>\n",
       "      <td>E</td>\n",
       "      <td>X</td>\n",
       "      <td>X</td>\n",
       "      <td>X</td>\n",
       "      <td>B</td>\n",
       "    </tr>\n",
       "    <tr>\n",
       "      <th>95410</th>\n",
       "      <td>PRV</td>\n",
       "      <td>CA</td>\n",
       "      <td>91320</td>\n",
       "      <td></td>\n",
       "      <td></td>\n",
       "      <td>0</td>\n",
       "      <td>X</td>\n",
       "      <td></td>\n",
       "      <td></td>\n",
       "      <td></td>\n",
       "      <td>XXXX</td>\n",
       "      <td>C1</td>\n",
       "      <td>24</td>\n",
       "      <td>E</td>\n",
       "      <td>H</td>\n",
       "      <td></td>\n",
       "      <td></td>\n",
       "      <td></td>\n",
       "      <td></td>\n",
       "      <td>F</td>\n",
       "      <td>2</td>\n",
       "      <td></td>\n",
       "      <td>12</td>\n",
       "      <td></td>\n",
       "      <td>4</td>\n",
       "      <td></td>\n",
       "      <td></td>\n",
       "      <td></td>\n",
       "      <td></td>\n",
       "      <td></td>\n",
       "      <td></td>\n",
       "      <td></td>\n",
       "      <td></td>\n",
       "      <td></td>\n",
       "      <td></td>\n",
       "      <td></td>\n",
       "      <td></td>\n",
       "      <td></td>\n",
       "      <td></td>\n",
       "      <td></td>\n",
       "      <td></td>\n",
       "      <td></td>\n",
       "      <td></td>\n",
       "      <td>1</td>\n",
       "      <td>X</td>\n",
       "      <td>L4F</td>\n",
       "      <td>S4F</td>\n",
       "      <td>A3F</td>\n",
       "      <td>S4F</td>\n",
       "      <td>S4F</td>\n",
       "      <td>S4F</td>\n",
       "      <td>S4F</td>\n",
       "      <td>S4F</td>\n",
       "      <td>S4F</td>\n",
       "      <td>S4F</td>\n",
       "      <td>S4F</td>\n",
       "      <td>S4F</td>\n",
       "      <td>S4F</td>\n",
       "      <td>S4F</td>\n",
       "      <td>S3F</td>\n",
       "      <td>S2F</td>\n",
       "      <td>S2F</td>\n",
       "      <td>A1F</td>\n",
       "      <td>A1F</td>\n",
       "      <td>A1F</td>\n",
       "      <td>A1F</td>\n",
       "      <td>S2F</td>\n",
       "      <td>S3F</td>\n",
       "      <td>L</td>\n",
       "      <td>F</td>\n",
       "      <td>X</td>\n",
       "      <td>X</td>\n",
       "      <td>X</td>\n",
       "      <td>A</td>\n",
       "    </tr>\n",
       "    <tr>\n",
       "      <th>95411</th>\n",
       "      <td>MCC</td>\n",
       "      <td>NC</td>\n",
       "      <td>28409</td>\n",
       "      <td></td>\n",
       "      <td></td>\n",
       "      <td>0</td>\n",
       "      <td>X</td>\n",
       "      <td></td>\n",
       "      <td>X</td>\n",
       "      <td></td>\n",
       "      <td>C1CM</td>\n",
       "      <td>C1</td>\n",
       "      <td>24</td>\n",
       "      <td>E</td>\n",
       "      <td>U</td>\n",
       "      <td></td>\n",
       "      <td></td>\n",
       "      <td></td>\n",
       "      <td></td>\n",
       "      <td>F</td>\n",
       "      <td>3</td>\n",
       "      <td></td>\n",
       "      <td>12</td>\n",
       "      <td>X</td>\n",
       "      <td>3</td>\n",
       "      <td></td>\n",
       "      <td></td>\n",
       "      <td></td>\n",
       "      <td></td>\n",
       "      <td></td>\n",
       "      <td></td>\n",
       "      <td></td>\n",
       "      <td></td>\n",
       "      <td></td>\n",
       "      <td></td>\n",
       "      <td></td>\n",
       "      <td></td>\n",
       "      <td></td>\n",
       "      <td></td>\n",
       "      <td></td>\n",
       "      <td></td>\n",
       "      <td></td>\n",
       "      <td></td>\n",
       "      <td></td>\n",
       "      <td>X</td>\n",
       "      <td>L1G</td>\n",
       "      <td>A1G</td>\n",
       "      <td>A1G</td>\n",
       "      <td>A1G</td>\n",
       "      <td>A1G</td>\n",
       "      <td>L3G</td>\n",
       "      <td>L3G</td>\n",
       "      <td>L4G</td>\n",
       "      <td>A1G</td>\n",
       "      <td>A1G</td>\n",
       "      <td>A1G</td>\n",
       "      <td>A1G</td>\n",
       "      <td>A1G</td>\n",
       "      <td>A1G</td>\n",
       "      <td>S2G</td>\n",
       "      <td>S3G</td>\n",
       "      <td>S3G</td>\n",
       "      <td>S4G</td>\n",
       "      <td>S3G</td>\n",
       "      <td>S3G</td>\n",
       "      <td>S3G</td>\n",
       "      <td>S3G</td>\n",
       "      <td>S3G</td>\n",
       "      <td>L</td>\n",
       "      <td>G</td>\n",
       "      <td>C</td>\n",
       "      <td>1</td>\n",
       "      <td>C</td>\n",
       "      <td>C</td>\n",
       "    </tr>\n",
       "  </tbody>\n",
       "</table>\n",
       "<p>95412 rows × 74 columns</p>\n",
       "</div>"
      ],
      "text/plain": [
       "      OSOURCE STATE    ZIP MAILCODE PVASTATE NOEXCH RECINHSE RECP3 RECPGVG  \\\n",
       "0         GRI    IL  61081                        0                          \n",
       "1         BOA    CA  91326                        0                          \n",
       "2         AMH    NC  27017                        0                          \n",
       "3         BRY    CA  95953                        0                          \n",
       "4                FL  33176                        0        X     X           \n",
       "...       ...   ...    ...      ...      ...    ...      ...   ...     ...   \n",
       "95407     ASE    AK  99504                        0                          \n",
       "95408     DCD    TX  77379                        0                          \n",
       "95409     MBC    MI  48910                        0              X           \n",
       "95410     PRV    CA  91320                        0        X                 \n",
       "95411     MCC    NC  28409                        0        X             X   \n",
       "\n",
       "      RECSWEEP MDMAUD DOMAIN CLUSTER AGEFLAG HOMEOWNR CHILD03 CHILD07 CHILD12  \\\n",
       "0                XXXX     T2      36                                            \n",
       "1                XXXX     S1      14       E        H                           \n",
       "2                XXXX     R2      43                U                           \n",
       "3                XXXX     R2      44       E        U                           \n",
       "4                XXXX     S2      16       E        H                           \n",
       "...        ...    ...    ...     ...     ...      ...     ...     ...     ...   \n",
       "95407            XXXX     C2      27                                            \n",
       "95408            XXXX     C1      24       E        H                           \n",
       "95409            XXXX     C3      30                                            \n",
       "95410            XXXX     C1      24       E        H                           \n",
       "95411            C1CM     C1      24       E        U                           \n",
       "\n",
       "      CHILD18 GENDER DATASRCE SOLP3 SOLIH MAJOR GEOCODE COLLECT1 VETERANS  \\\n",
       "0                  F                                                        \n",
       "1           M      M        3                         2                     \n",
       "2                  M        3                                               \n",
       "3                  F        3                                               \n",
       "4                  F        3          12                                   \n",
       "...       ...    ...      ...   ...   ...   ...     ...      ...      ...   \n",
       "95407              M                                                        \n",
       "95408       M      M        3                                               \n",
       "95409              M                                                        \n",
       "95410              F        2          12             4                     \n",
       "95411              F        3          12     X       3                     \n",
       "\n",
       "      BIBLE CATLG HOMEE PETS CDPLAY STEREO PCOWNERS PHOTO CRAFTS FISHER  \\\n",
       "0                                                                         \n",
       "1                                                                         \n",
       "2                                                                         \n",
       "3                                                                         \n",
       "4         Y     Y                        Y                     Y          \n",
       "...     ...   ...   ...  ...    ...    ...      ...   ...    ...    ...   \n",
       "95407                                                                     \n",
       "95408                                                                     \n",
       "95409                                                                     \n",
       "95410                                                                     \n",
       "95411                                                                     \n",
       "\n",
       "      GARDENIN BOATS WALKER KIDSTUFF CARDS PLATES LIFESRC PEPSTRFL RFA_2  \\\n",
       "0                                                                X   L4E   \n",
       "1                                                                    L2G   \n",
       "2                                                                X   L4E   \n",
       "3                                                                X   L4E   \n",
       "4            Y            Y              Y              3            L2F   \n",
       "...        ...   ...    ...      ...   ...    ...     ...      ...   ...   \n",
       "95407                                                                L1G   \n",
       "95408                                                                L1F   \n",
       "95409                                                            X   L3E   \n",
       "95410                                                   1        X   L4F   \n",
       "95411                                                            X   L1G   \n",
       "\n",
       "      RFA_3 RFA_4 RFA_5 RFA_6 RFA_7 RFA_8 RFA_9 RFA_10 RFA_11 RFA_12 RFA_13  \\\n",
       "0       S4E   S4E   S4E   S4E   S4E   S4E   S4E    S4E    S4E    S4E    S4E   \n",
       "1       A2G   A2G   A2G   A2G   A1E   A1E   A1E    A1E    A1E    A1E          \n",
       "2       S4E   S4E   S4E   S4E   S4F   S4F   S4F           S4F    S4F    S4F   \n",
       "3       S4E   S4E   S4E   S4E   S4E   S4E   S4E           S4E    S4E    S4E   \n",
       "4       A2F   A2F   A2F   A1D   I2D   A1E   A1E    L1D    A1E    A1E    L1D   \n",
       "...     ...   ...   ...   ...   ...   ...   ...    ...    ...    ...    ...   \n",
       "95407   F1G   F1G         F1G   P1G   P1G                                     \n",
       "95408                           P1F   P1F                                     \n",
       "95409   S4E   S4E   S3E   S3E         A2E   N3E    N3E    N3E    N3E    N3E   \n",
       "95410   S4F   A3F   S4F   S4F   S4F   S4F   S4F    S4F    S4F    S4F    S4F   \n",
       "95411   A1G   A1G   A1G   A1G   L3G   L3G   L4G    A1G    A1G    A1G    A1G   \n",
       "\n",
       "      RFA_14 RFA_15 RFA_16 RFA_17 RFA_18 RFA_19 RFA_20 RFA_21 RFA_22 RFA_23  \\\n",
       "0        S4E    S4E    S4E    S4E    S4E    S4E    S4E    S4E    S4E    S4E   \n",
       "1                      L1E                  N1E    N1E    N1E    N1E          \n",
       "2        S4F    S4F    S4F           S4D    S4D                  S4D    S4D   \n",
       "3        S4E    S4E    S4E    S2D    S2D    A1D    A1D    A1D    A1D          \n",
       "4        L3D           L3D    A2D    A2D    A3D    A3D    A3D    I4E    A3D   \n",
       "...      ...    ...    ...    ...    ...    ...    ...    ...    ...    ...   \n",
       "95407                                                                         \n",
       "95408                                                                         \n",
       "95409    N3E    N2E    F1D           F1D                  P1D    P1D          \n",
       "95410    S4F    S4F    S3F    S2F    S2F    A1F    A1F    A1F    A1F    S2F   \n",
       "95411    A1G    A1G    S2G    S3G    S3G    S4G    S3G    S3G    S3G    S3G   \n",
       "\n",
       "      RFA_24 RFA_2R RFA_2A MDMAUD_R MDMAUD_F MDMAUD_A GEOCODE2  \n",
       "0        S4E      L      E        X        X        X        C  \n",
       "1        F1E      L      G        X        X        X        A  \n",
       "2        S3D      L      E        X        X        X        C  \n",
       "3                 L      E        X        X        X        C  \n",
       "4        A3D      L      F        X        X        X        A  \n",
       "...      ...    ...    ...      ...      ...      ...      ...  \n",
       "95407             L      G        X        X        X        C  \n",
       "95408             L      F        X        X        X        A  \n",
       "95409             L      E        X        X        X        B  \n",
       "95410    S3F      L      F        X        X        X        A  \n",
       "95411    S3G      L      G        C        1        C        C  \n",
       "\n",
       "[95412 rows x 74 columns]"
      ]
     },
     "execution_count": 257,
     "metadata": {},
     "output_type": "execute_result"
    }
   ],
   "source": [
    "cat_df"
   ]
  },
  {
   "cell_type": "code",
   "execution_count": 258,
   "id": "fc19b8a9",
   "metadata": {},
   "outputs": [],
   "source": [
    "#check null"
   ]
  },
  {
   "cell_type": "code",
   "execution_count": 259,
   "id": "f460a92c",
   "metadata": {},
   "outputs": [
    {
     "name": "stdout",
     "output_type": "stream",
     "text": [
      "OSOURCE       0\n",
      "STATE         0\n",
      "ZIP           0\n",
      "MAILCODE      0\n",
      "PVASTATE      0\n",
      "           ... \n",
      "RFA_2A        0\n",
      "MDMAUD_R      0\n",
      "MDMAUD_F      0\n",
      "MDMAUD_A      0\n",
      "GEOCODE2    132\n",
      "Length: 74, dtype: int64\n"
     ]
    }
   ],
   "source": [
    "null_counts = cat_df.isnull().sum()\n",
    "print(null_counts)"
   ]
  },
  {
   "cell_type": "code",
   "execution_count": 260,
   "id": "a4ec7016",
   "metadata": {
    "scrolled": true
   },
   "outputs": [
    {
     "data": {
      "text/plain": [
       "0      73\n",
       "132     1\n",
       "dtype: int64"
      ]
     },
     "execution_count": 260,
     "metadata": {},
     "output_type": "execute_result"
    }
   ],
   "source": [
    "cat_df.isnull().sum().value_counts()"
   ]
  },
  {
   "cell_type": "code",
   "execution_count": 261,
   "id": "c6cffc97",
   "metadata": {},
   "outputs": [],
   "source": [
    "#drop list"
   ]
  },
  {
   "cell_type": "code",
   "execution_count": 262,
   "id": "b4e9714c",
   "metadata": {},
   "outputs": [
    {
     "data": {
      "text/plain": [
       "['OSOURCE', 'ZIP']"
      ]
     },
     "execution_count": 262,
     "metadata": {},
     "output_type": "execute_result"
    }
   ],
   "source": [
    "drop_list = []\n",
    "drop_list = ['OSOURCE', 'ZIP']\n",
    "drop_list"
   ]
  },
  {
   "cell_type": "code",
   "execution_count": 263,
   "id": "50614cbb",
   "metadata": {},
   "outputs": [],
   "source": [
    "#85% null"
   ]
  },
  {
   "cell_type": "code",
   "execution_count": 264,
   "id": "f9986b96",
   "metadata": {},
   "outputs": [
    {
     "data": {
      "text/plain": [
       "Index(['GEOCODE2'], dtype='object')"
      ]
     },
     "execution_count": 264,
     "metadata": {},
     "output_type": "execute_result"
    }
   ],
   "source": [
    "over_85_percent = cat_df.columns[cat_df.isnull().sum() > 0.85]\n",
    "over_85_percent"
   ]
  },
  {
   "cell_type": "code",
   "execution_count": 265,
   "id": "9cd4efad",
   "metadata": {
    "scrolled": true
   },
   "outputs": [
    {
     "data": {
      "text/plain": [
       "['OSOURCE', 'ZIP', 'GEOCODE2']"
      ]
     },
     "execution_count": 265,
     "metadata": {},
     "output_type": "execute_result"
    }
   ],
   "source": [
    "combine_list = list(drop_list) + list(over_85_percent)\n",
    "combine_list"
   ]
  },
  {
   "cell_type": "code",
   "execution_count": 266,
   "id": "974438db",
   "metadata": {},
   "outputs": [
    {
     "data": {
      "text/plain": [
       "['OSOURCE', 'ZIP', 'GEOCODE2']"
      ]
     },
     "execution_count": 266,
     "metadata": {},
     "output_type": "execute_result"
    }
   ],
   "source": [
    "drop_list = combine_list\n",
    "drop_list"
   ]
  },
  {
   "cell_type": "code",
   "execution_count": 267,
   "id": "c2c909fd",
   "metadata": {},
   "outputs": [],
   "source": [
    "#remove columns"
   ]
  },
  {
   "cell_type": "code",
   "execution_count": 268,
   "id": "72a028f3",
   "metadata": {},
   "outputs": [
    {
     "name": "stdout",
     "output_type": "stream",
     "text": [
      "Index(['OSOURCE', 'STATE', 'ZIP', 'MAILCODE', 'PVASTATE', 'NOEXCH', 'RECINHSE',\n",
      "       'RECP3', 'RECPGVG', 'RECSWEEP', 'MDMAUD', 'DOMAIN', 'CLUSTER',\n",
      "       'AGEFLAG', 'HOMEOWNR', 'CHILD03', 'CHILD07', 'CHILD12', 'CHILD18',\n",
      "       'GENDER', 'DATASRCE', 'SOLP3', 'SOLIH', 'MAJOR', 'GEOCODE', 'COLLECT1',\n",
      "       'VETERANS', 'BIBLE', 'CATLG', 'HOMEE', 'PETS', 'CDPLAY', 'STEREO',\n",
      "       'PCOWNERS', 'PHOTO', 'CRAFTS', 'FISHER', 'GARDENIN', 'BOATS', 'WALKER',\n",
      "       'KIDSTUFF', 'CARDS', 'PLATES', 'LIFESRC', 'PEPSTRFL', 'RFA_2', 'RFA_3',\n",
      "       'RFA_4', 'RFA_5', 'RFA_6', 'RFA_7', 'RFA_8', 'RFA_9', 'RFA_10',\n",
      "       'RFA_11', 'RFA_12', 'RFA_13', 'RFA_14', 'RFA_15', 'RFA_16', 'RFA_17',\n",
      "       'RFA_18', 'RFA_19', 'RFA_20', 'RFA_21', 'RFA_22', 'RFA_23', 'RFA_24',\n",
      "       'RFA_2R', 'RFA_2A', 'MDMAUD_R', 'MDMAUD_F', 'MDMAUD_A', 'GEOCODE2'],\n",
      "      dtype='object')\n",
      "(95412, 74)\n"
     ]
    }
   ],
   "source": [
    "print(cat_df.columns)\n",
    "print(cat_df.shape)\n"
   ]
  },
  {
   "cell_type": "code",
   "execution_count": 269,
   "id": "f0ff5be3",
   "metadata": {},
   "outputs": [],
   "source": [
    "cat_df.drop(drop_list, axis=1, inplace=True)"
   ]
  },
  {
   "cell_type": "code",
   "execution_count": 270,
   "id": "c95851e1",
   "metadata": {},
   "outputs": [
    {
     "name": "stdout",
     "output_type": "stream",
     "text": [
      "Index(['STATE', 'MAILCODE', 'PVASTATE', 'NOEXCH', 'RECINHSE', 'RECP3',\n",
      "       'RECPGVG', 'RECSWEEP', 'MDMAUD', 'DOMAIN', 'CLUSTER', 'AGEFLAG',\n",
      "       'HOMEOWNR', 'CHILD03', 'CHILD07', 'CHILD12', 'CHILD18', 'GENDER',\n",
      "       'DATASRCE', 'SOLP3', 'SOLIH', 'MAJOR', 'GEOCODE', 'COLLECT1',\n",
      "       'VETERANS', 'BIBLE', 'CATLG', 'HOMEE', 'PETS', 'CDPLAY', 'STEREO',\n",
      "       'PCOWNERS', 'PHOTO', 'CRAFTS', 'FISHER', 'GARDENIN', 'BOATS', 'WALKER',\n",
      "       'KIDSTUFF', 'CARDS', 'PLATES', 'LIFESRC', 'PEPSTRFL', 'RFA_2', 'RFA_3',\n",
      "       'RFA_4', 'RFA_5', 'RFA_6', 'RFA_7', 'RFA_8', 'RFA_9', 'RFA_10',\n",
      "       'RFA_11', 'RFA_12', 'RFA_13', 'RFA_14', 'RFA_15', 'RFA_16', 'RFA_17',\n",
      "       'RFA_18', 'RFA_19', 'RFA_20', 'RFA_21', 'RFA_22', 'RFA_23', 'RFA_24',\n",
      "       'RFA_2R', 'RFA_2A', 'MDMAUD_R', 'MDMAUD_F', 'MDMAUD_A'],\n",
      "      dtype='object')\n",
      "(95412, 71)\n"
     ]
    }
   ],
   "source": [
    "print(cat_df.columns)\n",
    "print(cat_df.shape)"
   ]
  },
  {
   "cell_type": "code",
   "execution_count": 271,
   "id": "447331a8",
   "metadata": {},
   "outputs": [],
   "source": [
    "#categories gender"
   ]
  },
  {
   "cell_type": "code",
   "execution_count": 272,
   "id": "5eb72a8e",
   "metadata": {},
   "outputs": [
    {
     "data": {
      "text/plain": [
       "array(['F', 'M', ' ', 'C', 'U', 'J', 'A'], dtype=object)"
      ]
     },
     "execution_count": 272,
     "metadata": {},
     "output_type": "execute_result"
    }
   ],
   "source": [
    "cat_df['GENDER'].unique()"
   ]
  },
  {
   "cell_type": "code",
   "execution_count": 273,
   "id": "ee63f391",
   "metadata": {},
   "outputs": [],
   "source": [
    "cat_df['GENDER'] = cat_df['GENDER'].fillna('F')"
   ]
  },
  {
   "cell_type": "code",
   "execution_count": 274,
   "id": "b43cfb16",
   "metadata": {},
   "outputs": [],
   "source": [
    "def clean_gender(x):\n",
    "    if x not in ['F', 'M']:\n",
    "        return 'Other'\n",
    "    else:\n",
    "        return x"
   ]
  },
  {
   "cell_type": "code",
   "execution_count": 275,
   "id": "2566b272",
   "metadata": {},
   "outputs": [],
   "source": [
    "cat_df['GENDER'] = cat_df['GENDER'].apply(clean_gender)"
   ]
  },
  {
   "cell_type": "code",
   "execution_count": 276,
   "id": "3963fea2",
   "metadata": {},
   "outputs": [
    {
     "data": {
      "text/plain": [
       "array(['F', 'M', 'Other'], dtype=object)"
      ]
     },
     "execution_count": 276,
     "metadata": {},
     "output_type": "execute_result"
    }
   ],
   "source": [
    "cat_df['GENDER'].unique()"
   ]
  },
  {
   "cell_type": "code",
   "execution_count": 277,
   "id": "a82e5cd8",
   "metadata": {},
   "outputs": [],
   "source": [
    "#check null"
   ]
  },
  {
   "cell_type": "code",
   "execution_count": 278,
   "id": "1e51a877",
   "metadata": {},
   "outputs": [
    {
     "data": {
      "text/html": [
       "<div>\n",
       "<style scoped>\n",
       "    .dataframe tbody tr th:only-of-type {\n",
       "        vertical-align: middle;\n",
       "    }\n",
       "\n",
       "    .dataframe tbody tr th {\n",
       "        vertical-align: top;\n",
       "    }\n",
       "\n",
       "    .dataframe thead th {\n",
       "        text-align: right;\n",
       "    }\n",
       "</style>\n",
       "<table border=\"1\" class=\"dataframe\">\n",
       "  <thead>\n",
       "    <tr style=\"text-align: right;\">\n",
       "      <th></th>\n",
       "      <th>column_name</th>\n",
       "      <th>null_percentage</th>\n",
       "    </tr>\n",
       "  </thead>\n",
       "  <tbody>\n",
       "    <tr>\n",
       "      <th>0</th>\n",
       "      <td>NUMCHLD</td>\n",
       "      <td>0.870184</td>\n",
       "    </tr>\n",
       "    <tr>\n",
       "      <th>1</th>\n",
       "      <td>WEALTH1</td>\n",
       "      <td>0.468830</td>\n",
       "    </tr>\n",
       "    <tr>\n",
       "      <th>2</th>\n",
       "      <td>MBCRAFT</td>\n",
       "      <td>0.553955</td>\n",
       "    </tr>\n",
       "    <tr>\n",
       "      <th>3</th>\n",
       "      <td>MBGARDEN</td>\n",
       "      <td>0.553955</td>\n",
       "    </tr>\n",
       "    <tr>\n",
       "      <th>4</th>\n",
       "      <td>MBBOOKS</td>\n",
       "      <td>0.553955</td>\n",
       "    </tr>\n",
       "    <tr>\n",
       "      <th>...</th>\n",
       "      <td>...</td>\n",
       "      <td>...</td>\n",
       "    </tr>\n",
       "    <tr>\n",
       "      <th>67</th>\n",
       "      <td>RAMNT_20</td>\n",
       "      <td>0.917327</td>\n",
       "    </tr>\n",
       "    <tr>\n",
       "      <th>68</th>\n",
       "      <td>RAMNT_21</td>\n",
       "      <td>0.900296</td>\n",
       "    </tr>\n",
       "    <tr>\n",
       "      <th>69</th>\n",
       "      <td>RAMNT_22</td>\n",
       "      <td>0.781233</td>\n",
       "    </tr>\n",
       "    <tr>\n",
       "      <th>70</th>\n",
       "      <td>RAMNT_23</td>\n",
       "      <td>0.917631</td>\n",
       "    </tr>\n",
       "    <tr>\n",
       "      <th>71</th>\n",
       "      <td>RAMNT_24</td>\n",
       "      <td>0.814090</td>\n",
       "    </tr>\n",
       "  </tbody>\n",
       "</table>\n",
       "<p>72 rows × 2 columns</p>\n",
       "</div>"
      ],
      "text/plain": [
       "   column_name  null_percentage\n",
       "0      NUMCHLD         0.870184\n",
       "1      WEALTH1         0.468830\n",
       "2      MBCRAFT         0.553955\n",
       "3     MBGARDEN         0.553955\n",
       "4      MBBOOKS         0.553955\n",
       "..         ...              ...\n",
       "67    RAMNT_20         0.917327\n",
       "68    RAMNT_21         0.900296\n",
       "69    RAMNT_22         0.781233\n",
       "70    RAMNT_23         0.917631\n",
       "71    RAMNT_24         0.814090\n",
       "\n",
       "[72 rows x 2 columns]"
      ]
     },
     "execution_count": 278,
     "metadata": {},
     "output_type": "execute_result"
    }
   ],
   "source": [
    "null_percentages = num_df.isnull().sum() / len(num_df)\n",
    "null_25 = null_percentages[null_percentages > 0.25]# * 100\n",
    "null_25 = pd.DataFrame(null_25).reset_index()\n",
    "null_25.columns = ['column_name', 'null_percentage']\n",
    "null_25"
   ]
  },
  {
   "cell_type": "code",
   "execution_count": 279,
   "id": "3bf4d1a3",
   "metadata": {},
   "outputs": [
    {
     "data": {
      "text/plain": [
       "407"
      ]
     },
     "execution_count": 279,
     "metadata": {},
     "output_type": "execute_result"
    }
   ],
   "source": [
    "len(num_df.columns)"
   ]
  },
  {
   "cell_type": "code",
   "execution_count": 280,
   "id": "5964b21a",
   "metadata": {},
   "outputs": [],
   "source": [
    "drop_num_col_drop = []\n",
    "drop_num_col_drop += [col for col in num_df.columns if \"ADATE_\" in col]"
   ]
  },
  {
   "cell_type": "code",
   "execution_count": 281,
   "id": "57810b70",
   "metadata": {},
   "outputs": [],
   "source": [
    "num_df.drop(drop_num_col_drop, axis=1, inplace=True)"
   ]
  },
  {
   "cell_type": "code",
   "execution_count": 282,
   "id": "ecdc7dae",
   "metadata": {},
   "outputs": [
    {
     "data": {
      "text/plain": [
       "384"
      ]
     },
     "execution_count": 282,
     "metadata": {},
     "output_type": "execute_result"
    }
   ],
   "source": [
    "len(num_df.columns)"
   ]
  },
  {
   "cell_type": "code",
   "execution_count": 283,
   "id": "3618f18d",
   "metadata": {},
   "outputs": [
    {
     "data": {
      "text/plain": [
       "Index(['ODATEDW', 'TCODE', 'DOB', 'AGE', 'NUMCHLD', 'INCOME', 'WEALTH1', 'HIT',\n",
       "       'MBCRAFT', 'MBGARDEN',\n",
       "       ...\n",
       "       'FISTDATE', 'NEXTDATE', 'TIMELAG', 'AVGGIFT', 'CONTROLN', 'TARGET_B',\n",
       "       'TARGET_D', 'HPHONE_D', 'RFA_2F', 'CLUSTER2'],\n",
       "      dtype='object', length=384)"
      ]
     },
     "execution_count": 283,
     "metadata": {},
     "output_type": "execute_result"
    }
   ],
   "source": [
    "num_df.columns"
   ]
  },
  {
   "cell_type": "code",
   "execution_count": 284,
   "id": "c04706e8",
   "metadata": {},
   "outputs": [
    {
     "data": {
      "text/html": [
       "<div>\n",
       "<style scoped>\n",
       "    .dataframe tbody tr th:only-of-type {\n",
       "        vertical-align: middle;\n",
       "    }\n",
       "\n",
       "    .dataframe tbody tr th {\n",
       "        vertical-align: top;\n",
       "    }\n",
       "\n",
       "    .dataframe thead th {\n",
       "        text-align: right;\n",
       "    }\n",
       "</style>\n",
       "<table border=\"1\" class=\"dataframe\">\n",
       "  <thead>\n",
       "    <tr style=\"text-align: right;\">\n",
       "      <th></th>\n",
       "      <th>column_name</th>\n",
       "      <th>null_percentage</th>\n",
       "    </tr>\n",
       "  </thead>\n",
       "  <tbody>\n",
       "    <tr>\n",
       "      <th>0</th>\n",
       "      <td>NUMCHLD</td>\n",
       "      <td>0.870184</td>\n",
       "    </tr>\n",
       "    <tr>\n",
       "      <th>1</th>\n",
       "      <td>WEALTH1</td>\n",
       "      <td>0.468830</td>\n",
       "    </tr>\n",
       "    <tr>\n",
       "      <th>2</th>\n",
       "      <td>MBCRAFT</td>\n",
       "      <td>0.553955</td>\n",
       "    </tr>\n",
       "    <tr>\n",
       "      <th>3</th>\n",
       "      <td>MBGARDEN</td>\n",
       "      <td>0.553955</td>\n",
       "    </tr>\n",
       "    <tr>\n",
       "      <th>4</th>\n",
       "      <td>MBBOOKS</td>\n",
       "      <td>0.553955</td>\n",
       "    </tr>\n",
       "    <tr>\n",
       "      <th>...</th>\n",
       "      <td>...</td>\n",
       "      <td>...</td>\n",
       "    </tr>\n",
       "    <tr>\n",
       "      <th>56</th>\n",
       "      <td>RAMNT_20</td>\n",
       "      <td>0.917327</td>\n",
       "    </tr>\n",
       "    <tr>\n",
       "      <th>57</th>\n",
       "      <td>RAMNT_21</td>\n",
       "      <td>0.900296</td>\n",
       "    </tr>\n",
       "    <tr>\n",
       "      <th>58</th>\n",
       "      <td>RAMNT_22</td>\n",
       "      <td>0.781233</td>\n",
       "    </tr>\n",
       "    <tr>\n",
       "      <th>59</th>\n",
       "      <td>RAMNT_23</td>\n",
       "      <td>0.917631</td>\n",
       "    </tr>\n",
       "    <tr>\n",
       "      <th>60</th>\n",
       "      <td>RAMNT_24</td>\n",
       "      <td>0.814090</td>\n",
       "    </tr>\n",
       "  </tbody>\n",
       "</table>\n",
       "<p>61 rows × 2 columns</p>\n",
       "</div>"
      ],
      "text/plain": [
       "   column_name  null_percentage\n",
       "0      NUMCHLD         0.870184\n",
       "1      WEALTH1         0.468830\n",
       "2      MBCRAFT         0.553955\n",
       "3     MBGARDEN         0.553955\n",
       "4      MBBOOKS         0.553955\n",
       "..         ...              ...\n",
       "56    RAMNT_20         0.917327\n",
       "57    RAMNT_21         0.900296\n",
       "58    RAMNT_22         0.781233\n",
       "59    RAMNT_23         0.917631\n",
       "60    RAMNT_24         0.814090\n",
       "\n",
       "[61 rows x 2 columns]"
      ]
     },
     "execution_count": 284,
     "metadata": {},
     "output_type": "execute_result"
    }
   ],
   "source": [
    "null_percentages = num_df.isnull().sum() / len(num_df)\n",
    "null_25 = null_percentages[null_percentages > 0.25]# * 100\n",
    "null_25 = pd.DataFrame(null_25).reset_index()\n",
    "null_25.columns = ['column_name', 'null_percentage']\n",
    "null_25"
   ]
  },
  {
   "cell_type": "code",
   "execution_count": 285,
   "id": "425fc49d",
   "metadata": {
    "scrolled": true
   },
   "outputs": [
    {
     "data": {
      "text/plain": [
       "['ODATEDW',\n",
       " 'TCODE',\n",
       " 'DOB',\n",
       " 'AGE',\n",
       " 'NUMCHLD',\n",
       " 'INCOME',\n",
       " 'WEALTH1',\n",
       " 'HIT',\n",
       " 'MBCRAFT',\n",
       " 'MBGARDEN',\n",
       " 'MBBOOKS',\n",
       " 'MBCOLECT',\n",
       " 'MAGFAML',\n",
       " 'MAGFEM',\n",
       " 'MAGMALE',\n",
       " 'PUBGARDN',\n",
       " 'PUBCULIN',\n",
       " 'PUBHLTH',\n",
       " 'PUBDOITY',\n",
       " 'PUBNEWFN',\n",
       " 'PUBPHOTO',\n",
       " 'PUBOPP',\n",
       " 'MALEMILI',\n",
       " 'MALEVET',\n",
       " 'VIETVETS',\n",
       " 'WWIIVETS',\n",
       " 'LOCALGOV',\n",
       " 'STATEGOV',\n",
       " 'FEDGOV',\n",
       " 'WEALTH2',\n",
       " 'POP901',\n",
       " 'POP902',\n",
       " 'POP903',\n",
       " 'POP90C1',\n",
       " 'POP90C2',\n",
       " 'POP90C3',\n",
       " 'POP90C4',\n",
       " 'POP90C5',\n",
       " 'ETH1',\n",
       " 'ETH2',\n",
       " 'ETH3',\n",
       " 'ETH4',\n",
       " 'ETH5',\n",
       " 'ETH6',\n",
       " 'ETH7',\n",
       " 'ETH8',\n",
       " 'ETH9',\n",
       " 'ETH10',\n",
       " 'ETH11',\n",
       " 'ETH12',\n",
       " 'ETH13',\n",
       " 'ETH14',\n",
       " 'ETH15',\n",
       " 'ETH16',\n",
       " 'AGE901',\n",
       " 'AGE902',\n",
       " 'AGE903',\n",
       " 'AGE904',\n",
       " 'AGE905',\n",
       " 'AGE906',\n",
       " 'AGE907',\n",
       " 'CHIL1',\n",
       " 'CHIL2',\n",
       " 'CHIL3',\n",
       " 'AGEC1',\n",
       " 'AGEC2',\n",
       " 'AGEC3',\n",
       " 'AGEC4',\n",
       " 'AGEC5',\n",
       " 'AGEC6',\n",
       " 'AGEC7',\n",
       " 'CHILC1',\n",
       " 'CHILC2',\n",
       " 'CHILC3',\n",
       " 'CHILC4',\n",
       " 'CHILC5',\n",
       " 'HHAGE1',\n",
       " 'HHAGE2',\n",
       " 'HHAGE3',\n",
       " 'HHN1',\n",
       " 'HHN2',\n",
       " 'HHN3',\n",
       " 'HHN4',\n",
       " 'HHN5',\n",
       " 'HHN6',\n",
       " 'MARR1',\n",
       " 'MARR2',\n",
       " 'MARR3',\n",
       " 'MARR4',\n",
       " 'HHP1',\n",
       " 'HHP2',\n",
       " 'DW1',\n",
       " 'DW2',\n",
       " 'DW3',\n",
       " 'DW4',\n",
       " 'DW5',\n",
       " 'DW6',\n",
       " 'DW7',\n",
       " 'DW8',\n",
       " 'DW9',\n",
       " 'HV1',\n",
       " 'HV2',\n",
       " 'HV3',\n",
       " 'HV4',\n",
       " 'HU1',\n",
       " 'HU2',\n",
       " 'HU3',\n",
       " 'HU4',\n",
       " 'HU5',\n",
       " 'HHD1',\n",
       " 'HHD2',\n",
       " 'HHD3',\n",
       " 'HHD4',\n",
       " 'HHD5',\n",
       " 'HHD6',\n",
       " 'HHD7',\n",
       " 'HHD8',\n",
       " 'HHD9',\n",
       " 'HHD10',\n",
       " 'HHD11',\n",
       " 'HHD12',\n",
       " 'ETHC1',\n",
       " 'ETHC2',\n",
       " 'ETHC3',\n",
       " 'ETHC4',\n",
       " 'ETHC5',\n",
       " 'ETHC6',\n",
       " 'HVP1',\n",
       " 'HVP2',\n",
       " 'HVP3',\n",
       " 'HVP4',\n",
       " 'HVP5',\n",
       " 'HVP6',\n",
       " 'HUR1',\n",
       " 'HUR2',\n",
       " 'RHP1',\n",
       " 'RHP2',\n",
       " 'RHP3',\n",
       " 'RHP4',\n",
       " 'HUPA1',\n",
       " 'HUPA2',\n",
       " 'HUPA3',\n",
       " 'HUPA4',\n",
       " 'HUPA5',\n",
       " 'HUPA6',\n",
       " 'HUPA7',\n",
       " 'RP1',\n",
       " 'RP2',\n",
       " 'RP3',\n",
       " 'RP4',\n",
       " 'MSA',\n",
       " 'ADI',\n",
       " 'DMA',\n",
       " 'IC1',\n",
       " 'IC2',\n",
       " 'IC3',\n",
       " 'IC4',\n",
       " 'IC5',\n",
       " 'IC6',\n",
       " 'IC7',\n",
       " 'IC8',\n",
       " 'IC9',\n",
       " 'IC10',\n",
       " 'IC11',\n",
       " 'IC12',\n",
       " 'IC13',\n",
       " 'IC14',\n",
       " 'IC15',\n",
       " 'IC16',\n",
       " 'IC17',\n",
       " 'IC18',\n",
       " 'IC19',\n",
       " 'IC20',\n",
       " 'IC21',\n",
       " 'IC22',\n",
       " 'IC23',\n",
       " 'HHAS1',\n",
       " 'HHAS2',\n",
       " 'HHAS3',\n",
       " 'HHAS4',\n",
       " 'MC1',\n",
       " 'MC2',\n",
       " 'MC3',\n",
       " 'TPE1',\n",
       " 'TPE2',\n",
       " 'TPE3',\n",
       " 'TPE4',\n",
       " 'TPE5',\n",
       " 'TPE6',\n",
       " 'TPE7',\n",
       " 'TPE8',\n",
       " 'TPE9',\n",
       " 'PEC1',\n",
       " 'PEC2',\n",
       " 'TPE10',\n",
       " 'TPE11',\n",
       " 'TPE12',\n",
       " 'TPE13',\n",
       " 'LFC1',\n",
       " 'LFC2',\n",
       " 'LFC3',\n",
       " 'LFC4',\n",
       " 'LFC5',\n",
       " 'LFC6',\n",
       " 'LFC7',\n",
       " 'LFC8',\n",
       " 'LFC9',\n",
       " 'LFC10',\n",
       " 'OCC1',\n",
       " 'OCC2',\n",
       " 'OCC3',\n",
       " 'OCC4',\n",
       " 'OCC5',\n",
       " 'OCC6',\n",
       " 'OCC7',\n",
       " 'OCC8',\n",
       " 'OCC9',\n",
       " 'OCC10',\n",
       " 'OCC11',\n",
       " 'OCC12',\n",
       " 'OCC13',\n",
       " 'EIC1',\n",
       " 'EIC2',\n",
       " 'EIC3',\n",
       " 'EIC4',\n",
       " 'EIC5',\n",
       " 'EIC6',\n",
       " 'EIC7',\n",
       " 'EIC8',\n",
       " 'EIC9',\n",
       " 'EIC10',\n",
       " 'EIC11',\n",
       " 'EIC12',\n",
       " 'EIC13',\n",
       " 'EIC14',\n",
       " 'EIC15',\n",
       " 'EIC16',\n",
       " 'OEDC1',\n",
       " 'OEDC2',\n",
       " 'OEDC3',\n",
       " 'OEDC4',\n",
       " 'OEDC5',\n",
       " 'OEDC6',\n",
       " 'OEDC7',\n",
       " 'EC1',\n",
       " 'EC2',\n",
       " 'EC3',\n",
       " 'EC4',\n",
       " 'EC5',\n",
       " 'EC6',\n",
       " 'EC7',\n",
       " 'EC8',\n",
       " 'SEC1',\n",
       " 'SEC2',\n",
       " 'SEC3',\n",
       " 'SEC4',\n",
       " 'SEC5',\n",
       " 'AFC1',\n",
       " 'AFC2',\n",
       " 'AFC3',\n",
       " 'AFC4',\n",
       " 'AFC5',\n",
       " 'AFC6',\n",
       " 'VC1',\n",
       " 'VC2',\n",
       " 'VC3',\n",
       " 'VC4',\n",
       " 'ANC1',\n",
       " 'ANC2',\n",
       " 'ANC3',\n",
       " 'ANC4',\n",
       " 'ANC5',\n",
       " 'ANC6',\n",
       " 'ANC7',\n",
       " 'ANC8',\n",
       " 'ANC9',\n",
       " 'ANC10',\n",
       " 'ANC11',\n",
       " 'ANC12',\n",
       " 'ANC13',\n",
       " 'ANC14',\n",
       " 'ANC15',\n",
       " 'POBC1',\n",
       " 'POBC2',\n",
       " 'LSC1',\n",
       " 'LSC2',\n",
       " 'LSC3',\n",
       " 'LSC4',\n",
       " 'VOC1',\n",
       " 'VOC2',\n",
       " 'VOC3',\n",
       " 'HC1',\n",
       " 'HC2',\n",
       " 'HC3',\n",
       " 'HC4',\n",
       " 'HC5',\n",
       " 'HC6',\n",
       " 'HC7',\n",
       " 'HC8',\n",
       " 'HC9',\n",
       " 'HC10',\n",
       " 'HC11',\n",
       " 'HC12',\n",
       " 'HC13',\n",
       " 'HC14',\n",
       " 'HC15',\n",
       " 'HC16',\n",
       " 'HC17',\n",
       " 'HC18',\n",
       " 'HC19',\n",
       " 'HC20',\n",
       " 'HC21',\n",
       " 'MHUC1',\n",
       " 'MHUC2',\n",
       " 'AC1',\n",
       " 'AC2',\n",
       " 'CARDPROM',\n",
       " 'MAXADATE',\n",
       " 'NUMPROM',\n",
       " 'CARDPM12',\n",
       " 'NUMPRM12',\n",
       " 'RDATE_3',\n",
       " 'RDATE_4',\n",
       " 'RDATE_5',\n",
       " 'RDATE_6',\n",
       " 'RDATE_7',\n",
       " 'RDATE_8',\n",
       " 'RDATE_9',\n",
       " 'RDATE_10',\n",
       " 'RDATE_11',\n",
       " 'RDATE_12',\n",
       " 'RDATE_13',\n",
       " 'RDATE_14',\n",
       " 'RDATE_15',\n",
       " 'RDATE_16',\n",
       " 'RDATE_17',\n",
       " 'RDATE_18',\n",
       " 'RDATE_19',\n",
       " 'RDATE_20',\n",
       " 'RDATE_21',\n",
       " 'RDATE_22',\n",
       " 'RDATE_23',\n",
       " 'RDATE_24',\n",
       " 'RAMNT_3',\n",
       " 'RAMNT_4',\n",
       " 'RAMNT_5',\n",
       " 'RAMNT_6',\n",
       " 'RAMNT_7',\n",
       " 'RAMNT_8',\n",
       " 'RAMNT_9',\n",
       " 'RAMNT_10',\n",
       " 'RAMNT_11',\n",
       " 'RAMNT_12',\n",
       " 'RAMNT_13',\n",
       " 'RAMNT_14',\n",
       " 'RAMNT_15',\n",
       " 'RAMNT_16',\n",
       " 'RAMNT_17',\n",
       " 'RAMNT_18',\n",
       " 'RAMNT_19',\n",
       " 'RAMNT_20',\n",
       " 'RAMNT_21',\n",
       " 'RAMNT_22',\n",
       " 'RAMNT_23',\n",
       " 'RAMNT_24',\n",
       " 'RAMNTALL',\n",
       " 'NGIFTALL',\n",
       " 'CARDGIFT',\n",
       " 'MINRAMNT',\n",
       " 'MINRDATE',\n",
       " 'MAXRAMNT',\n",
       " 'MAXRDATE',\n",
       " 'LASTGIFT',\n",
       " 'LASTDATE',\n",
       " 'FISTDATE',\n",
       " 'NEXTDATE',\n",
       " 'TIMELAG',\n",
       " 'AVGGIFT',\n",
       " 'CONTROLN',\n",
       " 'TARGET_B',\n",
       " 'TARGET_D',\n",
       " 'HPHONE_D',\n",
       " 'RFA_2F',\n",
       " 'CLUSTER2']"
      ]
     },
     "execution_count": 285,
     "metadata": {},
     "output_type": "execute_result"
    }
   ],
   "source": [
    "list(num_df.columns)"
   ]
  },
  {
   "cell_type": "code",
   "execution_count": 286,
   "id": "bc340637",
   "metadata": {
    "scrolled": true
   },
   "outputs": [
    {
     "data": {
      "text/plain": [
       "['STATE',\n",
       " 'MAILCODE',\n",
       " 'PVASTATE',\n",
       " 'NOEXCH',\n",
       " 'RECINHSE',\n",
       " 'RECP3',\n",
       " 'RECPGVG',\n",
       " 'RECSWEEP',\n",
       " 'MDMAUD',\n",
       " 'DOMAIN',\n",
       " 'CLUSTER',\n",
       " 'AGEFLAG',\n",
       " 'HOMEOWNR',\n",
       " 'CHILD03',\n",
       " 'CHILD07',\n",
       " 'CHILD12',\n",
       " 'CHILD18',\n",
       " 'GENDER',\n",
       " 'DATASRCE',\n",
       " 'SOLP3',\n",
       " 'SOLIH',\n",
       " 'MAJOR',\n",
       " 'GEOCODE',\n",
       " 'COLLECT1',\n",
       " 'VETERANS',\n",
       " 'BIBLE',\n",
       " 'CATLG',\n",
       " 'HOMEE',\n",
       " 'PETS',\n",
       " 'CDPLAY',\n",
       " 'STEREO',\n",
       " 'PCOWNERS',\n",
       " 'PHOTO',\n",
       " 'CRAFTS',\n",
       " 'FISHER',\n",
       " 'GARDENIN',\n",
       " 'BOATS',\n",
       " 'WALKER',\n",
       " 'KIDSTUFF',\n",
       " 'CARDS',\n",
       " 'PLATES',\n",
       " 'LIFESRC',\n",
       " 'PEPSTRFL',\n",
       " 'RFA_2',\n",
       " 'RFA_3',\n",
       " 'RFA_4',\n",
       " 'RFA_5',\n",
       " 'RFA_6',\n",
       " 'RFA_7',\n",
       " 'RFA_8',\n",
       " 'RFA_9',\n",
       " 'RFA_10',\n",
       " 'RFA_11',\n",
       " 'RFA_12',\n",
       " 'RFA_13',\n",
       " 'RFA_14',\n",
       " 'RFA_15',\n",
       " 'RFA_16',\n",
       " 'RFA_17',\n",
       " 'RFA_18',\n",
       " 'RFA_19',\n",
       " 'RFA_20',\n",
       " 'RFA_21',\n",
       " 'RFA_22',\n",
       " 'RFA_23',\n",
       " 'RFA_24',\n",
       " 'RFA_2R',\n",
       " 'RFA_2A',\n",
       " 'MDMAUD_R',\n",
       " 'MDMAUD_F',\n",
       " 'MDMAUD_A']"
      ]
     },
     "execution_count": 286,
     "metadata": {},
     "output_type": "execute_result"
    }
   ],
   "source": [
    "list(cat_df.columns)"
   ]
  },
  {
   "cell_type": "markdown",
   "id": "6fa87cb1",
   "metadata": {},
   "source": [
    "# Feature engineering "
   ]
  },
  {
   "cell_type": "code",
   "execution_count": 287,
   "id": "0e1a3170",
   "metadata": {},
   "outputs": [],
   "source": [
    "#Use appropriate methods to clean the columns GEOCODE2, WEALTH1, ADI, DMA,and MSA."
   ]
  },
  {
   "cell_type": "code",
   "execution_count": 288,
   "id": "7b8c6a86",
   "metadata": {},
   "outputs": [],
   "source": [
    "#GEOCODE2 has already been dropped since over 85% null values"
   ]
  },
  {
   "cell_type": "code",
   "execution_count": 289,
   "id": "2420dc37",
   "metadata": {},
   "outputs": [
    {
     "data": {
      "text/plain": [
       "44732"
      ]
     },
     "execution_count": 289,
     "metadata": {},
     "output_type": "execute_result"
    }
   ],
   "source": [
    "num_df['WEALTH1'].isnull().sum()"
   ]
  },
  {
   "cell_type": "code",
   "execution_count": 290,
   "id": "935ee5d1",
   "metadata": {},
   "outputs": [
    {
     "data": {
      "text/plain": [
       "NaN    44732\n",
       "9.0     7585\n",
       "8.0     6793\n",
       "7.0     6198\n",
       "6.0     5825\n",
       "5.0     5280\n",
       "4.0     4810\n",
       "3.0     4237\n",
       "2.0     4085\n",
       "1.0     3454\n",
       "0.0     2413\n",
       "Name: WEALTH1, dtype: int64"
      ]
     },
     "execution_count": 290,
     "metadata": {},
     "output_type": "execute_result"
    }
   ],
   "source": [
    "num_df['WEALTH1'].value_counts(dropna=False)"
   ]
  },
  {
   "cell_type": "code",
   "execution_count": 291,
   "id": "ad1cdd02",
   "metadata": {},
   "outputs": [],
   "source": [
    "#Instructions requires us to drop NaNs"
   ]
  },
  {
   "cell_type": "code",
   "execution_count": 292,
   "id": "39ac9f54",
   "metadata": {},
   "outputs": [],
   "source": [
    "#num_df['WEALTH1'] = num_df['WEALTH1'].dropna()\n",
    "num_df.dropna(subset=['WEALTH1'], inplace=True)"
   ]
  },
  {
   "cell_type": "code",
   "execution_count": 293,
   "id": "4cd7314b",
   "metadata": {},
   "outputs": [
    {
     "data": {
      "text/plain": [
       "9.0    7585\n",
       "8.0    6793\n",
       "7.0    6198\n",
       "6.0    5825\n",
       "5.0    5280\n",
       "4.0    4810\n",
       "3.0    4237\n",
       "2.0    4085\n",
       "1.0    3454\n",
       "0.0    2413\n",
       "Name: WEALTH1, dtype: int64"
      ]
     },
     "execution_count": 293,
     "metadata": {},
     "output_type": "execute_result"
    }
   ],
   "source": [
    "num_df['WEALTH1'].value_counts(dropna=False)"
   ]
  },
  {
   "cell_type": "code",
   "execution_count": 294,
   "id": "eea5add2",
   "metadata": {},
   "outputs": [],
   "source": [
    "#ADI"
   ]
  },
  {
   "cell_type": "code",
   "execution_count": 295,
   "id": "c3c55c12",
   "metadata": {},
   "outputs": [
    {
     "data": {
      "text/plain": [
       "13.0     3345\n",
       "51.0     2628\n",
       "65.0     1910\n",
       "57.0     1537\n",
       "197.0    1284\n",
       "         ... \n",
       "601.0       1\n",
       "139.0       1\n",
       "145.0       1\n",
       "161.0       1\n",
       "140.0       1\n",
       "Name: ADI, Length: 201, dtype: int64"
      ]
     },
     "execution_count": 295,
     "metadata": {},
     "output_type": "execute_result"
    }
   ],
   "source": [
    "num_df['ADI'].value_counts(dropna=False)"
   ]
  },
  {
   "cell_type": "code",
   "execution_count": 296,
   "id": "956a05b3",
   "metadata": {},
   "outputs": [
    {
     "data": {
      "text/plain": [
       "32"
      ]
     },
     "execution_count": 296,
     "metadata": {},
     "output_type": "execute_result"
    }
   ],
   "source": [
    "num_df['ADI'].isnull().sum()"
   ]
  },
  {
   "cell_type": "code",
   "execution_count": 297,
   "id": "0d82c7ee",
   "metadata": {},
   "outputs": [
    {
     "data": {
      "image/png": "[encoded data removed]",
      "text/plain": [
       "<Figure size 640x480 with 1 Axes>"
      ]
     },
     "metadata": {},
     "output_type": "display_data"
    }
   ],
   "source": [
    "sns.histplot(num_df[num_df['ADI'].isna()==False]['ADI'],kde=True) \n",
    "plt.show()"
   ]
  },
  {
   "cell_type": "code",
   "execution_count": 298,
   "id": "e839b10f",
   "metadata": {},
   "outputs": [
    {
     "data": {
      "text/plain": [
       "175.0"
      ]
     },
     "execution_count": 298,
     "metadata": {},
     "output_type": "execute_result"
    }
   ],
   "source": [
    "np.median(num_df[num_df['ADI'].notna()]['ADI'])"
   ]
  },
  {
   "cell_type": "code",
   "execution_count": 299,
   "id": "45aaddf8",
   "metadata": {},
   "outputs": [],
   "source": [
    "num_df['ADI'].fillna(np.median(num_df[num_df['ADI'].notna()]['ADI']), inplace=True)"
   ]
  },
  {
   "cell_type": "code",
   "execution_count": 300,
   "id": "3a4b9010",
   "metadata": {},
   "outputs": [
    {
     "data": {
      "text/plain": [
       "0"
      ]
     },
     "execution_count": 300,
     "metadata": {},
     "output_type": "execute_result"
    }
   ],
   "source": [
    "num_df['ADI'].isnull().sum()"
   ]
  },
  {
   "cell_type": "code",
   "execution_count": 301,
   "id": "d58f4fff",
   "metadata": {},
   "outputs": [
    {
     "data": {
      "image/png": "[encoded data removed]",
      "text/plain": [
       "<Figure size 640x480 with 1 Axes>"
      ]
     },
     "metadata": {},
     "output_type": "display_data"
    }
   ],
   "source": [
    "sns.histplot(num_df['ADI'], kde=True)\n",
    "plt.show()"
   ]
  },
  {
   "cell_type": "code",
   "execution_count": 302,
   "id": "b407144e",
   "metadata": {},
   "outputs": [],
   "source": [
    "#DMA"
   ]
  },
  {
   "cell_type": "code",
   "execution_count": 303,
   "id": "094d46a1",
   "metadata": {},
   "outputs": [
    {
     "data": {
      "text/plain": [
       "803.0    3345\n",
       "602.0    2630\n",
       "807.0    1910\n",
       "505.0    1538\n",
       "524.0    1285\n",
       "         ... \n",
       "598.0       1\n",
       "538.0       1\n",
       "502.0       1\n",
       "552.0       1\n",
       "549.0       1\n",
       "Name: DMA, Length: 202, dtype: int64"
      ]
     },
     "execution_count": 303,
     "metadata": {},
     "output_type": "execute_result"
    }
   ],
   "source": [
    "num_df['DMA'].value_counts(dropna=False)"
   ]
  },
  {
   "cell_type": "code",
   "execution_count": 304,
   "id": "b1e338c1",
   "metadata": {},
   "outputs": [
    {
     "data": {
      "text/plain": [
       "32"
      ]
     },
     "execution_count": 304,
     "metadata": {},
     "output_type": "execute_result"
    }
   ],
   "source": [
    "num_df['DMA'].isnull().sum()"
   ]
  },
  {
   "cell_type": "code",
   "execution_count": 305,
   "id": "3d0a319a",
   "metadata": {},
   "outputs": [
    {
     "data": {
      "image/png": "[encoded data removed]",
      "text/plain": [
       "<Figure size 640x480 with 1 Axes>"
      ]
     },
     "metadata": {},
     "output_type": "display_data"
    }
   ],
   "source": [
    "sns.histplot(num_df[num_df['DMA'].isna()==False]['DMA'],kde=True) \n",
    "plt.show()"
   ]
  },
  {
   "cell_type": "code",
   "execution_count": 306,
   "id": "e07abe7d",
   "metadata": {},
   "outputs": [
    {
     "data": {
      "text/plain": [
       "658.010365661033"
      ]
     },
     "execution_count": 306,
     "metadata": {},
     "output_type": "execute_result"
    }
   ],
   "source": [
    "np.mean(num_df[num_df['DMA'].notna()]['DMA'])"
   ]
  },
  {
   "cell_type": "code",
   "execution_count": 307,
   "id": "425aa36f",
   "metadata": {},
   "outputs": [
    {
     "data": {
      "text/plain": [
       "658"
      ]
     },
     "execution_count": 307,
     "metadata": {},
     "output_type": "execute_result"
    }
   ],
   "source": [
    "round(np.mean(num_df[num_df['DMA'].notna()]['DMA']))"
   ]
  },
  {
   "cell_type": "code",
   "execution_count": 319,
   "id": "19f489fe",
   "metadata": {},
   "outputs": [
    {
     "data": {
      "text/plain": [
       "625.0"
      ]
     },
     "execution_count": 319,
     "metadata": {},
     "output_type": "execute_result"
    }
   ],
   "source": [
    "#np.median(num_df[num_df['DMA'].notna()]['DMA'])"
   ]
  },
  {
   "cell_type": "code",
   "execution_count": 309,
   "id": "2e63014c",
   "metadata": {},
   "outputs": [],
   "source": [
    "num_df['DMA'].fillna(np.mean(num_df[num_df['DMA'].notna()]['DMA']), inplace=True)"
   ]
  },
  {
   "cell_type": "code",
   "execution_count": 310,
   "id": "6281626f",
   "metadata": {},
   "outputs": [
    {
     "data": {
      "image/png": "[encoded data removed]",
      "text/plain": [
       "<Figure size 640x480 with 1 Axes>"
      ]
     },
     "metadata": {},
     "output_type": "display_data"
    }
   ],
   "source": [
    "sns.histplot(num_df['DMA'], kde=True)\n",
    "plt.show()"
   ]
  },
  {
   "cell_type": "code",
   "execution_count": 311,
   "id": "31df12e5",
   "metadata": {},
   "outputs": [],
   "source": [
    "#MSA"
   ]
  },
  {
   "cell_type": "code",
   "execution_count": 312,
   "id": "563907be",
   "metadata": {},
   "outputs": [
    {
     "data": {
      "text/plain": [
       "0.0       9734\n",
       "1600.0    2307\n",
       "4480.0    2185\n",
       "2160.0    1381\n",
       "520.0     1108\n",
       "          ... \n",
       "1303.0       1\n",
       "5523.0       1\n",
       "743.0        1\n",
       "1480.0       1\n",
       "7610.0       1\n",
       "Name: MSA, Length: 288, dtype: int64"
      ]
     },
     "execution_count": 312,
     "metadata": {},
     "output_type": "execute_result"
    }
   ],
   "source": [
    "num_df['MSA'].value_counts(dropna=False)"
   ]
  },
  {
   "cell_type": "code",
   "execution_count": 313,
   "id": "c504006a",
   "metadata": {},
   "outputs": [
    {
     "data": {
      "text/plain": [
       "32"
      ]
     },
     "execution_count": 313,
     "metadata": {},
     "output_type": "execute_result"
    }
   ],
   "source": [
    "num_df['MSA'].isnull().sum()"
   ]
  },
  {
   "cell_type": "code",
   "execution_count": 314,
   "id": "3ee5f583",
   "metadata": {},
   "outputs": [
    {
     "data": {
      "image/png": "[encoded data removed]",
      "text/plain": [
       "<Figure size 640x480 with 1 Axes>"
      ]
     },
     "metadata": {},
     "output_type": "display_data"
    }
   ],
   "source": [
    "sns.histplot(num_df[num_df['MSA'].isna()==False]['MSA'],kde=True) \n",
    "plt.show()"
   ]
  },
  {
   "cell_type": "code",
   "execution_count": 315,
   "id": "62defcf3",
   "metadata": {},
   "outputs": [
    {
     "data": {
      "text/plain": [
       "3599.3664507976623"
      ]
     },
     "execution_count": 315,
     "metadata": {},
     "output_type": "execute_result"
    }
   ],
   "source": [
    "np.mean(num_df[num_df['MSA'].notna()]['MSA'])"
   ]
  },
  {
   "cell_type": "code",
   "execution_count": 316,
   "id": "b7bf443f",
   "metadata": {},
   "outputs": [
    {
     "data": {
      "text/plain": [
       "3360.0"
      ]
     },
     "execution_count": 316,
     "metadata": {},
     "output_type": "execute_result"
    }
   ],
   "source": [
    "np.median(num_df[num_df['MSA'].notna()]['MSA'])"
   ]
  },
  {
   "cell_type": "code",
   "execution_count": 317,
   "id": "0ad86392",
   "metadata": {},
   "outputs": [],
   "source": [
    "num_df['MSA'].fillna(np.median(num_df[num_df['MSA'].notna()]['MSA']), inplace=True)"
   ]
  },
  {
   "cell_type": "code",
   "execution_count": 318,
   "id": "dab8b241",
   "metadata": {},
   "outputs": [
    {
     "data": {
      "image/png": "[encoded data removed]",
      "text/plain": [
       "<Figure size 640x480 with 1 Axes>"
      ]
     },
     "metadata": {},
     "output_type": "display_data"
    }
   ],
   "source": [
    "sns.histplot(num_df['MSA'], kde=True)\n",
    "plt.show()"
   ]
  },
  {
   "cell_type": "code",
   "execution_count": 325,
   "id": "d7770e75",
   "metadata": {},
   "outputs": [
    {
     "data": {
      "text/html": [
       "<div>\n",
       "<style scoped>\n",
       "    .dataframe tbody tr th:only-of-type {\n",
       "        vertical-align: middle;\n",
       "    }\n",
       "\n",
       "    .dataframe tbody tr th {\n",
       "        vertical-align: top;\n",
       "    }\n",
       "\n",
       "    .dataframe thead th {\n",
       "        text-align: right;\n",
       "    }\n",
       "</style>\n",
       "<table border=\"1\" class=\"dataframe\">\n",
       "  <thead>\n",
       "    <tr style=\"text-align: right;\">\n",
       "      <th></th>\n",
       "      <th>null_count</th>\n",
       "      <th>null_percent</th>\n",
       "    </tr>\n",
       "  </thead>\n",
       "  <tbody>\n",
       "    <tr>\n",
       "      <th>ODATEDW</th>\n",
       "      <td>0</td>\n",
       "      <td>0.000000</td>\n",
       "    </tr>\n",
       "    <tr>\n",
       "      <th>TCODE</th>\n",
       "      <td>0</td>\n",
       "      <td>0.000000</td>\n",
       "    </tr>\n",
       "    <tr>\n",
       "      <th>DOB</th>\n",
       "      <td>0</td>\n",
       "      <td>0.000000</td>\n",
       "    </tr>\n",
       "    <tr>\n",
       "      <th>AGE</th>\n",
       "      <td>6655</td>\n",
       "      <td>0.131314</td>\n",
       "    </tr>\n",
       "    <tr>\n",
       "      <th>NUMCHLD</th>\n",
       "      <td>42342</td>\n",
       "      <td>0.835478</td>\n",
       "    </tr>\n",
       "    <tr>\n",
       "      <th>...</th>\n",
       "      <td>...</td>\n",
       "      <td>...</td>\n",
       "    </tr>\n",
       "    <tr>\n",
       "      <th>TARGET_B</th>\n",
       "      <td>0</td>\n",
       "      <td>0.000000</td>\n",
       "    </tr>\n",
       "    <tr>\n",
       "      <th>TARGET_D</th>\n",
       "      <td>0</td>\n",
       "      <td>0.000000</td>\n",
       "    </tr>\n",
       "    <tr>\n",
       "      <th>HPHONE_D</th>\n",
       "      <td>0</td>\n",
       "      <td>0.000000</td>\n",
       "    </tr>\n",
       "    <tr>\n",
       "      <th>RFA_2F</th>\n",
       "      <td>0</td>\n",
       "      <td>0.000000</td>\n",
       "    </tr>\n",
       "    <tr>\n",
       "      <th>CLUSTER2</th>\n",
       "      <td>32</td>\n",
       "      <td>0.000631</td>\n",
       "    </tr>\n",
       "  </tbody>\n",
       "</table>\n",
       "<p>384 rows × 2 columns</p>\n",
       "</div>"
      ],
      "text/plain": [
       "          null_count  null_percent\n",
       "ODATEDW            0      0.000000\n",
       "TCODE              0      0.000000\n",
       "DOB                0      0.000000\n",
       "AGE             6655      0.131314\n",
       "NUMCHLD        42342      0.835478\n",
       "...              ...           ...\n",
       "TARGET_B           0      0.000000\n",
       "TARGET_D           0      0.000000\n",
       "HPHONE_D           0      0.000000\n",
       "RFA_2F             0      0.000000\n",
       "CLUSTER2          32      0.000631\n",
       "\n",
       "[384 rows x 2 columns]"
      ]
     },
     "execution_count": 325,
     "metadata": {},
     "output_type": "execute_result"
    }
   ],
   "source": [
    "null_counts = num_df.isnull().sum().to_frame(name='null_count')\n",
    "null_counts['null_percent'] = null_counts['null_count'] / len(num_df)\n",
    "null_counts\n"
   ]
  },
  {
   "cell_type": "code",
   "execution_count": 328,
   "id": "c97f39d3",
   "metadata": {},
   "outputs": [
    {
     "data": {
      "text/html": [
       "<div>\n",
       "<style scoped>\n",
       "    .dataframe tbody tr th:only-of-type {\n",
       "        vertical-align: middle;\n",
       "    }\n",
       "\n",
       "    .dataframe tbody tr th {\n",
       "        vertical-align: top;\n",
       "    }\n",
       "\n",
       "    .dataframe thead th {\n",
       "        text-align: right;\n",
       "    }\n",
       "</style>\n",
       "<table border=\"1\" class=\"dataframe\">\n",
       "  <thead>\n",
       "    <tr style=\"text-align: right;\">\n",
       "      <th></th>\n",
       "      <th>column_name</th>\n",
       "      <th>null_percentage</th>\n",
       "    </tr>\n",
       "  </thead>\n",
       "  <tbody>\n",
       "    <tr>\n",
       "      <th>0</th>\n",
       "      <td>AGE</td>\n",
       "      <td>0.131314</td>\n",
       "    </tr>\n",
       "    <tr>\n",
       "      <th>1</th>\n",
       "      <td>NUMCHLD</td>\n",
       "      <td>0.835478</td>\n",
       "    </tr>\n",
       "    <tr>\n",
       "      <th>2</th>\n",
       "      <td>MBCRAFT</td>\n",
       "      <td>0.160260</td>\n",
       "    </tr>\n",
       "    <tr>\n",
       "      <th>3</th>\n",
       "      <td>MBGARDEN</td>\n",
       "      <td>0.160260</td>\n",
       "    </tr>\n",
       "    <tr>\n",
       "      <th>4</th>\n",
       "      <td>MBBOOKS</td>\n",
       "      <td>0.160260</td>\n",
       "    </tr>\n",
       "    <tr>\n",
       "      <th>...</th>\n",
       "      <td>...</td>\n",
       "      <td>...</td>\n",
       "    </tr>\n",
       "    <tr>\n",
       "      <th>59</th>\n",
       "      <td>RAMNT_23</td>\n",
       "      <td>0.919890</td>\n",
       "    </tr>\n",
       "    <tr>\n",
       "      <th>60</th>\n",
       "      <td>RAMNT_24</td>\n",
       "      <td>0.811148</td>\n",
       "    </tr>\n",
       "    <tr>\n",
       "      <th>61</th>\n",
       "      <td>NEXTDATE</td>\n",
       "      <td>0.096626</td>\n",
       "    </tr>\n",
       "    <tr>\n",
       "      <th>62</th>\n",
       "      <td>TIMELAG</td>\n",
       "      <td>0.096626</td>\n",
       "    </tr>\n",
       "    <tr>\n",
       "      <th>63</th>\n",
       "      <td>CLUSTER2</td>\n",
       "      <td>0.000631</td>\n",
       "    </tr>\n",
       "  </tbody>\n",
       "</table>\n",
       "<p>64 rows × 2 columns</p>\n",
       "</div>"
      ],
      "text/plain": [
       "   column_name  null_percentage\n",
       "0          AGE         0.131314\n",
       "1      NUMCHLD         0.835478\n",
       "2      MBCRAFT         0.160260\n",
       "3     MBGARDEN         0.160260\n",
       "4      MBBOOKS         0.160260\n",
       "..         ...              ...\n",
       "59    RAMNT_23         0.919890\n",
       "60    RAMNT_24         0.811148\n",
       "61    NEXTDATE         0.096626\n",
       "62     TIMELAG         0.096626\n",
       "63    CLUSTER2         0.000631\n",
       "\n",
       "[64 rows x 2 columns]"
      ]
     },
     "execution_count": 328,
     "metadata": {},
     "output_type": "execute_result"
    }
   ],
   "source": [
    "null_percentages = num_df.isnull().sum() / len(num_df)\n",
    "null = null_percentages[null_percentages > 0]# * 100\n",
    "null = pd.DataFrame(null).reset_index()\n",
    "null.columns = ['column_name', 'null_percentage']\n",
    "null"
   ]
  },
  {
   "cell_type": "code",
   "execution_count": 329,
   "id": "cebcda97",
   "metadata": {},
   "outputs": [],
   "source": [
    "num_df.dropna(how='any', inplace=True)"
   ]
  },
  {
   "cell_type": "code",
   "execution_count": 332,
   "id": "730a6359",
   "metadata": {},
   "outputs": [
    {
     "data": {
      "text/html": [
       "<div>\n",
       "<style scoped>\n",
       "    .dataframe tbody tr th:only-of-type {\n",
       "        vertical-align: middle;\n",
       "    }\n",
       "\n",
       "    .dataframe tbody tr th {\n",
       "        vertical-align: top;\n",
       "    }\n",
       "\n",
       "    .dataframe thead th {\n",
       "        text-align: right;\n",
       "    }\n",
       "</style>\n",
       "<table border=\"1\" class=\"dataframe\">\n",
       "  <thead>\n",
       "    <tr style=\"text-align: right;\">\n",
       "      <th></th>\n",
       "      <th>column_name</th>\n",
       "      <th>null_percentage</th>\n",
       "    </tr>\n",
       "  </thead>\n",
       "  <tbody>\n",
       "  </tbody>\n",
       "</table>\n",
       "</div>"
      ],
      "text/plain": [
       "Empty DataFrame\n",
       "Columns: [column_name, null_percentage]\n",
       "Index: []"
      ]
     },
     "execution_count": 332,
     "metadata": {},
     "output_type": "execute_result"
    }
   ],
   "source": [
    "null_percentages = num_df.isnull().sum() / len(num_df)\n",
    "null = null_percentages[null_percentages > 0]# * 100\n",
    "null = pd.DataFrame(null).reset_index()\n",
    "null.columns = ['column_name', 'null_percentage']\n",
    "null"
   ]
  },
  {
   "cell_type": "code",
   "execution_count": 333,
   "id": "7cac2827",
   "metadata": {},
   "outputs": [
    {
     "data": {
      "text/plain": [
       "ODATEDW     0.0\n",
       "TCODE       0.0\n",
       "DOB         0.0\n",
       "AGE         0.0\n",
       "NUMCHLD     0.0\n",
       "           ... \n",
       "TARGET_B    0.0\n",
       "TARGET_D    0.0\n",
       "HPHONE_D    0.0\n",
       "RFA_2F      0.0\n",
       "CLUSTER2    0.0\n",
       "Length: 384, dtype: float64"
      ]
     },
     "execution_count": 333,
     "metadata": {},
     "output_type": "execute_result"
    }
   ],
   "source": [
    "num_df.isnull().sum()"
   ]
  },
  {
   "cell_type": "code",
   "execution_count": null,
   "id": "9f2b8a2a",
   "metadata": {},
   "outputs": [],
   "source": []
  }
 ],
 "metadata": {
  "kernelspec": {
   "display_name": "Python 3 (ipykernel)",
   "language": "python",
   "name": "python3"
  },
  "language_info": {
   "codemirror_mode": {
    "name": "ipython",
    "version": 3
   },
   "file_extension": ".py",
   "mimetype": "text/x-python",
   "name": "python",
   "nbconvert_exporter": "python",
   "pygments_lexer": "ipython3",
   "version": "3.9.13"
  }
 },
 "nbformat": 4,
 "nbformat_minor": 5
}
